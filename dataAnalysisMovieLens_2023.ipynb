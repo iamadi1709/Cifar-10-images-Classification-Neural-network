{
  "nbformat": 4,
  "nbformat_minor": 0,
  "metadata": {
    "colab": {
      "provenance": [],
      "include_colab_link": true
    },
    "kernelspec": {
      "name": "python3",
      "display_name": "Python 3"
    },
    "language_info": {
      "name": "python"
    }
  },
  "cells": [
    {
      "cell_type": "markdown",
      "metadata": {
        "id": "view-in-github",
        "colab_type": "text"
      },
      "source": [
        "<a href=\"https://colab.research.google.com/github/iamadi1709/Cifar-10-images-Classification-Neural-network/blob/main/dataAnalysisMovieLens_2023.ipynb\" target=\"_parent\"><img src=\"https://colab.research.google.com/assets/colab-badge.svg\" alt=\"Open In Colab\"/></a>"
      ]
    },
    {
      "cell_type": "code",
      "execution_count": 1,
      "metadata": {
        "id": "r_0OQSR6FfKR",
        "colab": {
          "base_uri": "https://localhost:8080/"
        },
        "outputId": "98540ef6-4da5-48e1-b860-f2bf1f36e165"
      },
      "outputs": [
        {
          "output_type": "stream",
          "name": "stdout",
          "text": [
            "\r0% [Working]\r            \rHit:1 http://archive.ubuntu.com/ubuntu focal InRelease\n",
            "\r0% [Connecting to security.ubuntu.com (185.125.190.36)] [Connected to cloud.r-p\r                                                                               \rGet:2 http://archive.ubuntu.com/ubuntu focal-updates InRelease [114 kB]\n",
            "\r                                                                               \rGet:3 http://security.ubuntu.com/ubuntu focal-security InRelease [114 kB]\n",
            "\r                                                                               \rGet:4 https://cloud.r-project.org/bin/linux/ubuntu focal-cran40/ InRelease [3,622 B]\n",
            "Hit:5 http://ppa.launchpad.net/c2d4u.team/c2d4u4.0+/ubuntu focal InRelease\n",
            "Get:6 http://archive.ubuntu.com/ubuntu focal-backports InRelease [108 kB]\n",
            "Hit:7 http://ppa.launchpad.net/cran/libgit2/ubuntu focal InRelease\n",
            "Hit:8 http://ppa.launchpad.net/deadsnakes/ppa/ubuntu focal InRelease\n",
            "Get:9 http://archive.ubuntu.com/ubuntu focal-updates/universe amd64 Packages [1,299 kB]\n",
            "Hit:10 http://ppa.launchpad.net/graphics-drivers/ppa/ubuntu focal InRelease\n",
            "Ign:11 https://developer.download.nvidia.com/compute/machine-learning/repos/ubuntu2004/x86_64  InRelease\n",
            "Get:12 http://archive.ubuntu.com/ubuntu focal-updates/restricted amd64 Packages [2,069 kB]\n",
            "Get:13 http://archive.ubuntu.com/ubuntu focal-updates/main amd64 Packages [2,972 kB]\n",
            "Hit:14 http://ppa.launchpad.net/ubuntugis/ppa/ubuntu focal InRelease\n",
            "Hit:15 https://developer.download.nvidia.com/compute/cuda/repos/ubuntu2004/x86_64  InRelease\n",
            "Hit:16 https://developer.download.nvidia.com/compute/machine-learning/repos/ubuntu2004/x86_64  Release\n",
            "Get:17 http://security.ubuntu.com/ubuntu focal-security/universe amd64 Packages [1,000 kB]\n",
            "Fetched 7,679 kB in 3s (2,591 kB/s)\n",
            "Reading package lists... Done\n"
          ]
        }
      ],
      "source": [
        "!apt-get update\n",
        "# Download Java Virtual Machine (JVM)\n",
        "!apt-get install openjdk-8-jdk-headless -qq > /dev/null\n"
      ]
    },
    {
      "cell_type": "code",
      "source": [
        "# Download Spark\n",
        "!wget -q https://archive.apache.org/dist/spark/spark-3.2.1/spark-3.2.1-bin-hadoop3.2.tgz\n",
        "# Unzip the file\n",
        "!tar xf spark-3.2.1-bin-hadoop3.2.tgz"
      ],
      "metadata": {
        "id": "mJxhd-qtkHXk"
      },
      "execution_count": 2,
      "outputs": []
    },
    {
      "cell_type": "code",
      "source": [
        "!pip install -q findspark"
      ],
      "metadata": {
        "id": "1w5nro2JkOLm"
      },
      "execution_count": 3,
      "outputs": []
    },
    {
      "cell_type": "code",
      "source": [
        "# set your spark folder to your system path environment. \n",
        "import os\n",
        "os.environ[\"JAVA_HOME\"] = \"/usr/lib/jvm/java-8-openjdk-amd64\"\n",
        "os.environ[\"SPARK_HOME\"] = '/content/spark-3.2.1-bin-hadoop3.2'"
      ],
      "metadata": {
        "id": "l2Sq26M0IMsL"
      },
      "execution_count": 4,
      "outputs": []
    },
    {
      "cell_type": "code",
      "source": [
        "!ls"
      ],
      "metadata": {
        "colab": {
          "base_uri": "https://localhost:8080/"
        },
        "id": "78rG5C5Ykh8p",
        "outputId": "3166caf8-69cd-45ad-d9e3-8b2ffd8a51e6"
      },
      "execution_count": 5,
      "outputs": [
        {
          "output_type": "stream",
          "name": "stdout",
          "text": [
            "sample_data  spark-3.2.1-bin-hadoop3.2\tspark-3.2.1-bin-hadoop3.2.tgz\n"
          ]
        }
      ]
    },
    {
      "cell_type": "code",
      "source": [
        "import findspark\n",
        "findspark.init()"
      ],
      "metadata": {
        "id": "nINgcik7Iq2L"
      },
      "execution_count": 6,
      "outputs": []
    },
    {
      "cell_type": "code",
      "source": [
        "findspark.find()"
      ],
      "metadata": {
        "colab": {
          "base_uri": "https://localhost:8080/",
          "height": 35
        },
        "id": "7MHlaDg9kpF4",
        "outputId": "745a66e0-b98e-44c8-e7af-1623d73da1dd"
      },
      "execution_count": 7,
      "outputs": [
        {
          "output_type": "execute_result",
          "data": {
            "text/plain": [
              "'/content/spark-3.2.1-bin-hadoop3.2'"
            ],
            "application/vnd.google.colaboratory.intrinsic+json": {
              "type": "string"
            }
          },
          "metadata": {},
          "execution_count": 7
        }
      ]
    },
    {
      "cell_type": "code",
      "source": [
        "!pip install pyspark"
      ],
      "metadata": {
        "colab": {
          "base_uri": "https://localhost:8080/"
        },
        "id": "YuZLyVNuF0kY",
        "outputId": "b1289188-1531-4428-88f8-7ff777c71481"
      },
      "execution_count": 8,
      "outputs": [
        {
          "output_type": "stream",
          "name": "stdout",
          "text": [
            "Looking in indexes: https://pypi.org/simple, https://us-python.pkg.dev/colab-wheels/public/simple/\n",
            "Collecting pyspark\n",
            "  Downloading pyspark-3.3.2.tar.gz (281.4 MB)\n",
            "\u001b[2K     \u001b[90m━━━━━━━━━━━━━━━━━━━━━━━━━━━━━━━━━━━━━━━\u001b[0m \u001b[32m281.4/281.4 MB\u001b[0m \u001b[31m3.4 MB/s\u001b[0m eta \u001b[36m0:00:00\u001b[0m\n",
            "\u001b[?25h  Preparing metadata (setup.py) ... \u001b[?25l\u001b[?25hdone\n",
            "Collecting py4j==0.10.9.5\n",
            "  Downloading py4j-0.10.9.5-py2.py3-none-any.whl (199 kB)\n",
            "\u001b[2K     \u001b[90m━━━━━━━━━━━━━━━━━━━━━━━━━━━━━━━━━━━━━━\u001b[0m \u001b[32m199.7/199.7 KB\u001b[0m \u001b[31m22.8 MB/s\u001b[0m eta \u001b[36m0:00:00\u001b[0m\n",
            "\u001b[?25hBuilding wheels for collected packages: pyspark\n",
            "  Building wheel for pyspark (setup.py) ... \u001b[?25l\u001b[?25hdone\n",
            "  Created wheel for pyspark: filename=pyspark-3.3.2-py2.py3-none-any.whl size=281824025 sha256=7490929f82a277493e99c042f0d41e7fde3bab368b9a2769403539d0dd3ab58d\n",
            "  Stored in directory: /root/.cache/pip/wheels/b1/59/a0/a1a0624b5e865fd389919c1a10f53aec9b12195d6747710baf\n",
            "Successfully built pyspark\n",
            "Installing collected packages: py4j, pyspark\n",
            "Successfully installed py4j-0.10.9.5 pyspark-3.3.2\n"
          ]
        }
      ]
    },
    {
      "cell_type": "code",
      "source": [
        "import pyspark\n",
        "from pyspark.sql import SparkSession\n",
        "# Create a Spark Session\n",
        "spark = SparkSession.builder.master(\"local[*]\").getOrCreate()\n",
        "# Check Spark Session Information\n",
        "spark"
      ],
      "metadata": {
        "colab": {
          "base_uri": "https://localhost:8080/",
          "height": 221
        },
        "id": "vOqSi2eZF1fm",
        "outputId": "d548068d-4ea4-4c4a-858d-c3ef1725e681"
      },
      "execution_count": 9,
      "outputs": [
        {
          "output_type": "execute_result",
          "data": {
            "text/plain": [
              "<pyspark.sql.session.SparkSession at 0x7f0392cc6f70>"
            ],
            "text/html": [
              "\n",
              "            <div>\n",
              "                <p><b>SparkSession - in-memory</b></p>\n",
              "                \n",
              "        <div>\n",
              "            <p><b>SparkContext</b></p>\n",
              "\n",
              "            <p><a href=\"http://799c7818ee6c:4040\">Spark UI</a></p>\n",
              "\n",
              "            <dl>\n",
              "              <dt>Version</dt>\n",
              "                <dd><code>v3.2.1</code></dd>\n",
              "              <dt>Master</dt>\n",
              "                <dd><code>local[*]</code></dd>\n",
              "              <dt>AppName</dt>\n",
              "                <dd><code>pyspark-shell</code></dd>\n",
              "            </dl>\n",
              "        </div>\n",
              "        \n",
              "            </div>\n",
              "        "
            ]
          },
          "metadata": {},
          "execution_count": 9
        }
      ]
    },
    {
      "cell_type": "code",
      "source": [
        "from pyspark import SparkConf\n",
        "from pyspark.context import SparkContext\n",
        "\n",
        "sc = SparkContext.getOrCreate(SparkConf().setMaster(\"local[*]\"))\n",
        "sc"
      ],
      "metadata": {
        "colab": {
          "base_uri": "https://localhost:8080/",
          "height": 197
        },
        "id": "B8t8ZboRlBUL",
        "outputId": "ca9ece63-d85c-41b6-fdbe-4dd99ccfd82e"
      },
      "execution_count": 10,
      "outputs": [
        {
          "output_type": "execute_result",
          "data": {
            "text/plain": [
              "<SparkContext master=local[*] appName=pyspark-shell>"
            ],
            "text/html": [
              "\n",
              "        <div>\n",
              "            <p><b>SparkContext</b></p>\n",
              "\n",
              "            <p><a href=\"http://799c7818ee6c:4040\">Spark UI</a></p>\n",
              "\n",
              "            <dl>\n",
              "              <dt>Version</dt>\n",
              "                <dd><code>v3.2.1</code></dd>\n",
              "              <dt>Master</dt>\n",
              "                <dd><code>local[*]</code></dd>\n",
              "              <dt>AppName</dt>\n",
              "                <dd><code>pyspark-shell</code></dd>\n",
              "            </dl>\n",
              "        </div>\n",
              "        "
            ]
          },
          "metadata": {},
          "execution_count": 10
        }
      ]
    },
    {
      "cell_type": "code",
      "source": [
        "data = [1, 2, 3, 4, 5]\n",
        "distData = sc.parallelize(data)"
      ],
      "metadata": {
        "id": "OAOBx1qQGHqu"
      },
      "execution_count": 11,
      "outputs": []
    },
    {
      "cell_type": "code",
      "source": [
        "distData.collect()"
      ],
      "metadata": {
        "id": "UDVkT9JqGvFE",
        "colab": {
          "base_uri": "https://localhost:8080/"
        },
        "outputId": "da87fa30-097d-41ef-e1c8-e21ed7490e90"
      },
      "execution_count": 12,
      "outputs": [
        {
          "output_type": "execute_result",
          "data": {
            "text/plain": [
              "[1, 2, 3, 4, 5]"
            ]
          },
          "metadata": {},
          "execution_count": 12
        }
      ]
    },
    {
      "cell_type": "code",
      "source": [
        "distData.top(2)"
      ],
      "metadata": {
        "colab": {
          "base_uri": "https://localhost:8080/"
        },
        "id": "6Xl_rgiBmHwf",
        "outputId": "b46530e0-6200-4e1b-af86-2784ea17d4e1"
      },
      "execution_count": 13,
      "outputs": [
        {
          "output_type": "execute_result",
          "data": {
            "text/plain": [
              "[5, 4]"
            ]
          },
          "metadata": {},
          "execution_count": 13
        }
      ]
    },
    {
      "cell_type": "code",
      "source": [
        "distData.take(3)"
      ],
      "metadata": {
        "colab": {
          "base_uri": "https://localhost:8080/"
        },
        "id": "9Gs2iwnpmJ6A",
        "outputId": "93697eac-cd99-43b7-ba43-b3e37400fca2"
      },
      "execution_count": 14,
      "outputs": [
        {
          "output_type": "execute_result",
          "data": {
            "text/plain": [
              "[1, 2, 3]"
            ]
          },
          "metadata": {},
          "execution_count": 14
        }
      ]
    },
    {
      "cell_type": "code",
      "source": [
        "distData.first()"
      ],
      "metadata": {
        "colab": {
          "base_uri": "https://localhost:8080/"
        },
        "id": "35yzaw9HmUrX",
        "outputId": "9b269d03-5514-4bb7-ef42-ac233f24dc77"
      },
      "execution_count": 15,
      "outputs": [
        {
          "output_type": "execute_result",
          "data": {
            "text/plain": [
              "1"
            ]
          },
          "metadata": {},
          "execution_count": 15
        }
      ]
    },
    {
      "cell_type": "code",
      "source": [
        "distData.count()"
      ],
      "metadata": {
        "colab": {
          "base_uri": "https://localhost:8080/"
        },
        "id": "CcmI_2LWndpj",
        "outputId": "39e73961-039d-4c2d-b7e0-d2d40a1eedbf"
      },
      "execution_count": 16,
      "outputs": [
        {
          "output_type": "execute_result",
          "data": {
            "text/plain": [
              "5"
            ]
          },
          "metadata": {},
          "execution_count": 16
        }
      ]
    },
    {
      "cell_type": "code",
      "source": [
        "distData.reduce(lambda x,y : x+y)"
      ],
      "metadata": {
        "colab": {
          "base_uri": "https://localhost:8080/"
        },
        "id": "XAdA26rWnfVi",
        "outputId": "96082111-94a2-4779-db90-65719a337c65"
      },
      "execution_count": 17,
      "outputs": [
        {
          "output_type": "execute_result",
          "data": {
            "text/plain": [
              "15"
            ]
          },
          "metadata": {},
          "execution_count": 17
        }
      ]
    },
    {
      "cell_type": "code",
      "source": [
        "mappedData=distData.map(lambda x:x*x)"
      ],
      "metadata": {
        "id": "aaF3bCfCnjEH"
      },
      "execution_count": 18,
      "outputs": []
    },
    {
      "cell_type": "code",
      "source": [
        "mappedData.collect()"
      ],
      "metadata": {
        "colab": {
          "base_uri": "https://localhost:8080/"
        },
        "id": "Z1wLJOUonxQx",
        "outputId": "9c8fec48-f962-4aa9-da23-2ee0c13734e9"
      },
      "execution_count": 19,
      "outputs": [
        {
          "output_type": "execute_result",
          "data": {
            "text/plain": [
              "[1, 4, 9, 16, 25]"
            ]
          },
          "metadata": {},
          "execution_count": 19
        }
      ]
    },
    {
      "cell_type": "code",
      "source": [
        "m=sc.parallelize([('apple',1),('orange',5),('apple',6),('orange',3)]).keys() "
      ],
      "metadata": {
        "id": "orb0XGdDnzek"
      },
      "execution_count": 20,
      "outputs": []
    },
    {
      "cell_type": "code",
      "source": [
        "m.collect()"
      ],
      "metadata": {
        "colab": {
          "base_uri": "https://localhost:8080/"
        },
        "id": "6up3ERwbn1NO",
        "outputId": "3de19150-736a-4717-db71-77fa767b0cda"
      },
      "execution_count": 21,
      "outputs": [
        {
          "output_type": "execute_result",
          "data": {
            "text/plain": [
              "['apple', 'orange', 'apple', 'orange']"
            ]
          },
          "metadata": {},
          "execution_count": 21
        }
      ]
    },
    {
      "cell_type": "code",
      "source": [
        "m=sc.parallelize([('apple',1),('orange',5),('apple',6),('orange',3)]).values()"
      ],
      "metadata": {
        "id": "ufHKMlkhn3GF"
      },
      "execution_count": 22,
      "outputs": []
    },
    {
      "cell_type": "code",
      "source": [
        "m.collect()"
      ],
      "metadata": {
        "colab": {
          "base_uri": "https://localhost:8080/"
        },
        "id": "nQGerBgqn7yj",
        "outputId": "a25d09eb-56e4-44c5-a9df-0ea88866038b"
      },
      "execution_count": 23,
      "outputs": [
        {
          "output_type": "execute_result",
          "data": {
            "text/plain": [
              "[1, 5, 6, 3]"
            ]
          },
          "metadata": {},
          "execution_count": 23
        }
      ]
    },
    {
      "cell_type": "code",
      "source": [
        "collection =['a', 'b', 'c','d','e']"
      ],
      "metadata": {
        "id": "CbVQlv-1n9rl"
      },
      "execution_count": 24,
      "outputs": []
    },
    {
      "cell_type": "code",
      "source": [
        "rddfromcollection =sc.parallelize(collection)"
      ],
      "metadata": {
        "id": "tTFxlh9DoIbb"
      },
      "execution_count": 25,
      "outputs": []
    },
    {
      "cell_type": "code",
      "source": [
        "rddfromcollection.collect()"
      ],
      "metadata": {
        "colab": {
          "base_uri": "https://localhost:8080/"
        },
        "id": "m9ticuRNoKLq",
        "outputId": "c1c416b9-b999-42ea-f6e7-65c42f912308"
      },
      "execution_count": 26,
      "outputs": [
        {
          "output_type": "execute_result",
          "data": {
            "text/plain": [
              "['a', 'b', 'c', 'd', 'e']"
            ]
          },
          "metadata": {},
          "execution_count": 26
        }
      ]
    },
    {
      "cell_type": "code",
      "source": [
        "rdd = sc.parallelize([\"Hello VIT Hi VIT Welcome VIT\"])\n",
        "counts = rdd.flatMap(lambda line: line.split(\" \")) \\\n",
        "    .map(lambda word: (word, 1)) \\\n",
        "    .reduceByKey(lambda a, b: a + b) \\\n",
        "    .collect()\n",
        "print(counts)"
      ],
      "metadata": {
        "colab": {
          "base_uri": "https://localhost:8080/"
        },
        "id": "d57DIA_AoLh3",
        "outputId": "aef9d87a-db36-4aea-e174-abfb5a315345"
      },
      "execution_count": 27,
      "outputs": [
        {
          "output_type": "stream",
          "name": "stdout",
          "text": [
            "[('Hello', 1), ('VIT', 3), ('Hi', 1), ('Welcome', 1)]\n"
          ]
        }
      ]
    },
    {
      "cell_type": "code",
      "source": [
        "sc"
      ],
      "metadata": {
        "colab": {
          "base_uri": "https://localhost:8080/",
          "height": 197
        },
        "id": "j0wbP_EBoRK0",
        "outputId": "b20dd10e-122c-4b2a-8eda-be2b52473932"
      },
      "execution_count": 28,
      "outputs": [
        {
          "output_type": "execute_result",
          "data": {
            "text/plain": [
              "<SparkContext master=local[*] appName=pyspark-shell>"
            ],
            "text/html": [
              "\n",
              "        <div>\n",
              "            <p><b>SparkContext</b></p>\n",
              "\n",
              "            <p><a href=\"http://799c7818ee6c:4040\">Spark UI</a></p>\n",
              "\n",
              "            <dl>\n",
              "              <dt>Version</dt>\n",
              "                <dd><code>v3.2.1</code></dd>\n",
              "              <dt>Master</dt>\n",
              "                <dd><code>local[*]</code></dd>\n",
              "              <dt>AppName</dt>\n",
              "                <dd><code>pyspark-shell</code></dd>\n",
              "            </dl>\n",
              "        </div>\n",
              "        "
            ]
          },
          "metadata": {},
          "execution_count": 28
        }
      ]
    },
    {
      "cell_type": "code",
      "source": [
        "#Load data\n",
        "!wget http://files.grouplens.org/datasets/movielens/ml-100k.zip\n",
        "!unzip ml-100k.zip"
      ],
      "metadata": {
        "colab": {
          "base_uri": "https://localhost:8080/"
        },
        "id": "_jR6rh1roRxf",
        "outputId": "66048fe7-6c68-469f-c1d5-d8cdf19f2d34"
      },
      "execution_count": 29,
      "outputs": [
        {
          "output_type": "stream",
          "name": "stdout",
          "text": [
            "--2023-02-24 10:35:44--  http://files.grouplens.org/datasets/movielens/ml-100k.zip\n",
            "Resolving files.grouplens.org (files.grouplens.org)... 128.101.65.152\n",
            "Connecting to files.grouplens.org (files.grouplens.org)|128.101.65.152|:80... connected.\n",
            "HTTP request sent, awaiting response... 200 OK\n",
            "Length: 4924029 (4.7M) [application/zip]\n",
            "Saving to: ‘ml-100k.zip’\n",
            "\n",
            "ml-100k.zip         100%[===================>]   4.70M  16.4MB/s    in 0.3s    \n",
            "\n",
            "2023-02-24 10:35:44 (16.4 MB/s) - ‘ml-100k.zip’ saved [4924029/4924029]\n",
            "\n",
            "Archive:  ml-100k.zip\n",
            "   creating: ml-100k/\n",
            "  inflating: ml-100k/allbut.pl       \n",
            "  inflating: ml-100k/mku.sh          \n",
            "  inflating: ml-100k/README          \n",
            "  inflating: ml-100k/u.data          \n",
            "  inflating: ml-100k/u.genre         \n",
            "  inflating: ml-100k/u.info          \n",
            "  inflating: ml-100k/u.item          \n",
            "  inflating: ml-100k/u.occupation    \n",
            "  inflating: ml-100k/u.user          \n",
            "  inflating: ml-100k/u1.base         \n",
            "  inflating: ml-100k/u1.test         \n",
            "  inflating: ml-100k/u2.base         \n",
            "  inflating: ml-100k/u2.test         \n",
            "  inflating: ml-100k/u3.base         \n",
            "  inflating: ml-100k/u3.test         \n",
            "  inflating: ml-100k/u4.base         \n",
            "  inflating: ml-100k/u4.test         \n",
            "  inflating: ml-100k/u5.base         \n",
            "  inflating: ml-100k/u5.test         \n",
            "  inflating: ml-100k/ua.base         \n",
            "  inflating: ml-100k/ua.test         \n",
            "  inflating: ml-100k/ub.base         \n",
            "  inflating: ml-100k/ub.test         \n"
          ]
        }
      ]
    },
    {
      "cell_type": "code",
      "source": [
        "#Load data\n",
        "user_data = sc.textFile(\"/content/ml-100k/u.user\")"
      ],
      "metadata": {
        "id": "gMFO8eU3oVfR"
      },
      "execution_count": 30,
      "outputs": []
    },
    {
      "cell_type": "code",
      "source": [
        "user_data.take(5)"
      ],
      "metadata": {
        "colab": {
          "base_uri": "https://localhost:8080/"
        },
        "id": "53vLnO1Noatx",
        "outputId": "ca4d5396-c84e-4c69-8b26-47496eb2a881"
      },
      "execution_count": 31,
      "outputs": [
        {
          "output_type": "execute_result",
          "data": {
            "text/plain": [
              "['1|24|M|technician|85711',\n",
              " '2|53|F|other|94043',\n",
              " '3|23|M|writer|32067',\n",
              " '4|24|M|technician|43537',\n",
              " '5|33|F|other|15213']"
            ]
          },
          "metadata": {},
          "execution_count": 31
        }
      ]
    },
    {
      "cell_type": "code",
      "source": [
        "#count number of users\n",
        "user_fields = user_data.map(lambda line: line.split(\"|\"))\n",
        "num_users = user_fields.map(lambda fields: fields[0]).count()"
      ],
      "metadata": {
        "id": "50U-NTjbocJD"
      },
      "execution_count": 32,
      "outputs": []
    },
    {
      "cell_type": "code",
      "source": [
        "#count number of genders\n",
        "num_genders = user_fields.map(lambda fields:\n",
        "fields[2]).distinct().count()"
      ],
      "metadata": {
        "id": "-vTT1eNQoe4i"
      },
      "execution_count": 33,
      "outputs": []
    },
    {
      "cell_type": "code",
      "source": [
        "#count number of Occupations\n",
        "num_occupations = user_fields.map(lambda fields:\n",
        "fields[3]).distinct().count()"
      ],
      "metadata": {
        "id": "0K6UOiptog93"
      },
      "execution_count": 34,
      "outputs": []
    },
    {
      "cell_type": "code",
      "source": [
        "#count number of zipcodes\n",
        "num_zipcodes = user_fields.map(lambda fields:\n",
        "fields[4]).distinct().count()"
      ],
      "metadata": {
        "id": "BCiAymY_oiXP"
      },
      "execution_count": 35,
      "outputs": []
    },
    {
      "cell_type": "code",
      "source": [
        "print(\"Users: \",num_users, \"Genders:\",num_genders,\"Occupation:\", num_occupations, \"ZipCodes:\",num_zipcodes)"
      ],
      "metadata": {
        "colab": {
          "base_uri": "https://localhost:8080/"
        },
        "id": "B70FoB4jok8Z",
        "outputId": "47954593-eb53-4f48-c21f-d14b78a88334"
      },
      "execution_count": 36,
      "outputs": [
        {
          "output_type": "stream",
          "name": "stdout",
          "text": [
            "Users:  943 Genders: 2 Occupation: 21 ZipCodes: 795\n"
          ]
        }
      ]
    },
    {
      "cell_type": "code",
      "source": [
        "import matplotlib.pyplot as plt\n",
        "import numpy as np"
      ],
      "metadata": {
        "id": "I4-JZafZonCy"
      },
      "execution_count": 37,
      "outputs": []
    },
    {
      "cell_type": "code",
      "source": [
        "#a histogram to analyze the distribution of user ages\n",
        "ages = user_fields.map(lambda x: int(x[1])).collect()\n",
        "plt.hist(ages, bins=20, color='red')\n",
        "plt.show()"
      ],
      "metadata": {
        "colab": {
          "base_uri": "https://localhost:8080/",
          "height": 265
        },
        "id": "2L-_4eSRoqW4",
        "outputId": "7764eb36-adc0-42ab-95dc-72c911766027"
      },
      "execution_count": 39,
      "outputs": [
        {
          "output_type": "display_data",
          "data": {
            "text/plain": [
              "<Figure size 432x288 with 1 Axes>"
            ],
            "image/png": "[encoded data removed]"
          },
          "metadata": {
            "needs_background": "light"
          }
        }
      ]
    },
    {
      "cell_type": "code",
      "source": [
        "#frequencies of the various occupations of our users\n",
        "#mapreduce to count occurences of each occupation\n",
        "#Whenever we give collect function rdd will be converted into list.\n",
        "\n",
        "count_by_occupation = user_fields.map(lambda fields: (fields[3], 1)).reduceByKey(lambda x, y: x + y).collect()\n",
        "x_axis1 = np.array([c[0] for c in count_by_occupation])\n",
        "y_axis1 = np.array([c[1] for c in count_by_occupation])"
      ],
      "metadata": {
        "id": "y39ErQcZosLU"
      },
      "execution_count": 40,
      "outputs": []
    },
    {
      "cell_type": "code",
      "source": [
        "user_fields.take(5)"
      ],
      "metadata": {
        "colab": {
          "base_uri": "https://localhost:8080/"
        },
        "id": "HdU8I-xJoyU9",
        "outputId": "f33c5525-b5c5-4720-deb4-dfb4590e87f3"
      },
      "execution_count": 41,
      "outputs": [
        {
          "output_type": "execute_result",
          "data": {
            "text/plain": [
              "[['1', '24', 'M', 'technician', '85711'],\n",
              " ['2', '53', 'F', 'other', '94043'],\n",
              " ['3', '23', 'M', 'writer', '32067'],\n",
              " ['4', '24', 'M', 'technician', '43537'],\n",
              " ['5', '33', 'F', 'other', '15213']]"
            ]
          },
          "metadata": {},
          "execution_count": 41
        }
      ]
    },
    {
      "cell_type": "markdown",
      "source": [
        "#Sort the count data\n",
        "First create 2 numpy arrays - use argsort method of numpy select elements of each array"
      ],
      "metadata": {
        "id": "4Kf7daMzp_Aa"
      }
    },
    {
      "cell_type": "code",
      "source": [
        "x_axis = x_axis1[np.argsort(y_axis1)]\n",
        "y_axis = y_axis1[np.argsort(y_axis1)]"
      ],
      "metadata": {
        "id": "BdgLrQlDozz_"
      },
      "execution_count": 42,
      "outputs": []
    },
    {
      "cell_type": "code",
      "source": [
        "import matplotlib\n",
        "import matplotlib.pyplot as plt\n",
        "pos = np.arange(len(x_axis))\n",
        "width = 1.0\n",
        "ax = plt.axes()\n",
        "ax.set_xticks(pos + (width / 2))\n",
        "ax.set_xticklabels(x_axis)\n",
        "plt.bar(pos, y_axis, width, color='lightblue')\n",
        "plt.xticks(rotation=30)\n",
        "fig = matplotlib.pyplot.gcf()\n",
        "fig.set_size_inches(16, 10)"
      ],
      "metadata": {
        "colab": {
          "base_uri": "https://localhost:8080/",
          "height": 626
        },
        "id": "XuNVc8VdqHqA",
        "outputId": "75972408-e748-4e0d-a5e1-15fc8fdfe87a"
      },
      "execution_count": 43,
      "outputs": [
        {
          "output_type": "display_data",
          "data": {
            "text/plain": [
              "<Figure size 1152x720 with 1 Axes>"
            ],
            "image/png": "[encoded data removed]"
          },
          "metadata": {
            "needs_background": "light"
          }
        }
      ]
    },
    {
      "cell_type": "code",
      "source": [
        "#count by occupation\n",
        "count_by_occupation2 = user_fields.map(lambda fields: fields[3]).countByValue()\n",
        "print (\"Map-reduce approach:\")\n",
        "print (dict(count_by_occupation2))\n",
        "print (\"\")\n",
        "print (\"countByValue approach:\")\n",
        "print (dict(count_by_occupation))"
      ],
      "metadata": {
        "colab": {
          "base_uri": "https://localhost:8080/"
        },
        "id": "UQGDWiK2qknE",
        "outputId": "ef18e6b4-05e8-4ad6-f500-0c8284ef5a9d"
      },
      "execution_count": 44,
      "outputs": [
        {
          "output_type": "stream",
          "name": "stdout",
          "text": [
            "Map-reduce approach:\n",
            "{'technician': 27, 'other': 105, 'writer': 45, 'executive': 32, 'administrator': 79, 'student': 196, 'lawyer': 12, 'educator': 95, 'scientist': 31, 'entertainment': 18, 'programmer': 66, 'librarian': 51, 'homemaker': 7, 'artist': 28, 'engineer': 67, 'marketing': 26, 'none': 9, 'healthcare': 16, 'retired': 14, 'salesman': 12, 'doctor': 7}\n",
            "\n",
            "countByValue approach:\n",
            "{'other': 105, 'executive': 32, 'administrator': 79, 'student': 196, 'educator': 95, 'programmer': 66, 'homemaker': 7, 'artist': 28, 'engineer': 67, 'none': 9, 'retired': 14, 'doctor': 7, 'technician': 27, 'writer': 45, 'lawyer': 12, 'scientist': 31, 'entertainment': 18, 'librarian': 51, 'marketing': 26, 'healthcare': 16, 'salesman': 12}\n"
          ]
        }
      ]
    },
    {
      "cell_type": "code",
      "source": [
        "#movie data file\n",
        "\n",
        "movie_data = sc.textFile(\"/content/ml-100k/u.item\")\n",
        "print(movie_data.take(5))\n",
        "num_movies = movie_data.count()\n",
        "print(\"Movies: \", num_movies)"
      ],
      "metadata": {
        "colab": {
          "base_uri": "https://localhost:8080/"
        },
        "id": "-E7ZsIszqtSb",
        "outputId": "88b80c70-ccaf-4072-f0cd-f034d125f219"
      },
      "execution_count": 45,
      "outputs": [
        {
          "output_type": "stream",
          "name": "stdout",
          "text": [
            "['1|Toy Story (1995)|01-Jan-1995||http://us.imdb.com/M/title-exact?Toy%20Story%20(1995)|0|0|0|1|1|1|0|0|0|0|0|0|0|0|0|0|0|0|0', '2|GoldenEye (1995)|01-Jan-1995||http://us.imdb.com/M/title-exact?GoldenEye%20(1995)|0|1|1|0|0|0|0|0|0|0|0|0|0|0|0|0|1|0|0', '3|Four Rooms (1995)|01-Jan-1995||http://us.imdb.com/M/title-exact?Four%20Rooms%20(1995)|0|0|0|0|0|0|0|0|0|0|0|0|0|0|0|0|1|0|0', '4|Get Shorty (1995)|01-Jan-1995||http://us.imdb.com/M/title-exact?Get%20Shorty%20(1995)|0|1|0|0|0|1|0|0|1|0|0|0|0|0|0|0|0|0|0', '5|Copycat (1995)|01-Jan-1995||http://us.imdb.com/M/title-exact?Copycat%20(1995)|0|0|0|0|0|0|1|0|1|0|0|0|0|0|0|0|1|0|0']\n",
            "Movies:  1682\n"
          ]
        }
      ]
    },
    {
      "cell_type": "code",
      "source": [
        "def convert_year(x):\n",
        " try:\n",
        "   return int(x[-4:])\n",
        "\n",
        " except:\n",
        "   return 1900 # there is a 'bad' data point with a blank year, which we set to 1900 and will filter out later"
      ],
      "metadata": {
        "id": "QaZ1ZucEqznl"
      },
      "execution_count": 46,
      "outputs": []
    },
    {
      "cell_type": "code",
      "source": [
        "movie_fields = movie_data.map(lambda lines: lines.split(\"|\"))\n",
        "years = movie_fields.map(lambda fields: fields[2]).map(lambda x: convert_year(x))"
      ],
      "metadata": {
        "id": "heAcW6x_q3M8"
      },
      "execution_count": 47,
      "outputs": []
    },
    {
      "cell_type": "code",
      "source": [
        "#Data exploration is very important as real-world dataseta are messy---needs parsing of data\n",
        "#filter the bad values\n",
        "years_filtered = years.filter(lambda x: x != 1900)"
      ],
      "metadata": {
        "id": "hj2TunpVq32T"
      },
      "execution_count": 48,
      "outputs": []
    },
    {
      "cell_type": "code",
      "source": [
        "# transform the list of movie release years into movie ages by subtracting the current year\n",
        "movie_ages = years_filtered.map(lambda yr: 1998-yr).countByValue()\n",
        "values = movie_ages.values()\n",
        "bins = movie_ages.keys()\n",
        "type(bins)\n",
        "#plt.hist(values, list(bins), color='lightblue')\n",
        "\n",
        "plt.bar(values, list(bins), color='lightblue')\n",
        "fig = matplotlib.pyplot.gcf()\n",
        "fig.set_size_inches(16,10)\n",
        "plt.show()\n"
      ],
      "metadata": {
        "colab": {
          "base_uri": "https://localhost:8080/",
          "height": 592
        },
        "id": "E-7KBC3mq5TM",
        "outputId": "27040de6-e961-431f-9a1d-d32fd605fec7"
      },
      "execution_count": 49,
      "outputs": [
        {
          "output_type": "display_data",
          "data": {
            "text/plain": [
              "<Figure size 1152x720 with 1 Axes>"
            ],
            "image/png": "[encoded data removed]"
          },
          "metadata": {
            "needs_background": "light"
          }
        }
      ]
    },
    {
      "cell_type": "code",
      "source": [
        "rating_data_raw = sc.textFile(\"/content/ml-100k/u.data\")\n",
        "print(rating_data_raw.first())\n",
        "num_ratings = rating_data_raw.count()\n",
        "print(\"Ratings:\", num_ratings)"
      ],
      "metadata": {
        "colab": {
          "base_uri": "https://localhost:8080/"
        },
        "id": "pgiaHWT-q6sK",
        "outputId": "1acc5b0a-720e-4137-8a16-3f0e89861aa1"
      },
      "execution_count": 50,
      "outputs": [
        {
          "output_type": "stream",
          "name": "stdout",
          "text": [
            "196\t242\t3\t881250949\n",
            "Ratings: 100000\n"
          ]
        }
      ]
    },
    {
      "cell_type": "code",
      "source": [
        "rating_data = rating_data_raw.map(lambda line: line.split(\"\\t\"))\n",
        "ratings = rating_data.map(lambda fields: int(fields[2]))\n",
        "max_rating = ratings.reduce(lambda x, y: max(x, y))\n",
        "min_rating = ratings.reduce(lambda x, y: min(x, y))\n",
        "mean_rating = ratings.reduce(lambda x, y: x + y) / num_ratings\n",
        "median_rating = np.median(ratings.collect())\n",
        "ratings_per_user = num_ratings / num_users\n",
        "ratings_per_movie = num_ratings / num_movies\n",
        "print(\"Min rating:\", min_rating)\n",
        "print(\"Max rating:\", max_rating)\n",
        "print(\"Average rating:\", mean_rating)\n",
        "print(\"Median rating:\", median_rating)\n",
        "print(\"Average # of ratings per user:\", ratings_per_user)\n",
        "print(\"Average # of ratings per movie:\", ratings_per_movie)"
      ],
      "metadata": {
        "colab": {
          "base_uri": "https://localhost:8080/"
        },
        "id": "8jLDgZVrq-HT",
        "outputId": "d5d0d21d-8be1-4e9c-f441-1838c979f343"
      },
      "execution_count": 51,
      "outputs": [
        {
          "output_type": "stream",
          "name": "stdout",
          "text": [
            "Min rating: 1\n",
            "Max rating: 5\n",
            "Average rating: 3.52986\n",
            "Median rating: 4.0\n",
            "Average # of ratings per user: 106.04453870625663\n",
            "Average # of ratings per movie: 59.45303210463734\n"
          ]
        }
      ]
    },
    {
      "cell_type": "code",
      "source": [
        "ratings.stats()"
      ],
      "metadata": {
        "colab": {
          "base_uri": "https://localhost:8080/"
        },
        "id": "WoIlJXFCrEOR",
        "outputId": "9e3108a8-4cba-413f-ffc1-ee77ecff4e24"
      },
      "execution_count": 52,
      "outputs": [
        {
          "output_type": "execute_result",
          "data": {
            "text/plain": [
              "(count: 100000, mean: 3.5298600000000024, stdev: 1.125667970762251, max: 5.0, min: 1.0)"
            ]
          },
          "metadata": {},
          "execution_count": 52
        }
      ]
    },
    {
      "cell_type": "code",
      "source": [
        "from pyspark.mllib.recommendation import ALS, MatrixFactorizationModel, Rating\n",
        " \n",
        "# Load and parse the data\n",
        "data = sc.textFile(\"/content/spark-3.2.1-bin-hadoop3.2/data/mllib/als/test.data\")\n",
        "ratings = data.map(lambda l: l.split(','))\\\n",
        "    .map(lambda l: Rating(int(l[0]), int(l[1]), float(l[2])))\n",
        " \n",
        "# Build the recommendation model using Alternating Least Squares\n",
        "rank = 10\n",
        "numIterations = 10\n",
        "model = ALS.trainImplicit(ratings, rank, numIterations, alpha=0.01)\n",
        " \n",
        "# Evaluate the model on training data\n",
        "testdata = ratings.map(lambda p: (p[0], p[1]))\n",
        "predictions = model.predictAll(testdata).map(lambda r: ((r[0], r[1]), r[2]))\n",
        "ratesAndPreds = ratings.map(lambda r: ((r[0], r[1]), r[2])).join(predictions)\n",
        "MSE = ratesAndPreds.map(lambda r: (r[1][0] - r[1][1])**2).mean()\n",
        "print(\"Mean Squared Error = \" + str(MSE))\n",
        " \n",
        "# Save and load model\n",
        "model.save(sc, \"target/tmp/myCollaborativeFilter\")\n",
        "sameModel = MatrixFactorizationModel.load(sc, \"target/tmp/myCollaborativeFilter\")"
      ],
      "metadata": {
        "colab": {
          "base_uri": "https://localhost:8080/"
        },
        "id": "X8KeTBAnrGkN",
        "outputId": "328d0370-1b3c-4ae5-a187-8807c5efd251"
      },
      "execution_count": 53,
      "outputs": [
        {
          "output_type": "stream",
          "name": "stdout",
          "text": [
            "Mean Squared Error = 8.014934905662912\n"
          ]
        }
      ]
    },
    {
      "cell_type": "code",
      "source": [
        "data.collect()"
      ],
      "metadata": {
        "colab": {
          "base_uri": "https://localhost:8080/"
        },
        "id": "fRnelHewrMNX",
        "outputId": "48c6d206-7314-4d69-b54f-2c2617c53cfe"
      },
      "execution_count": 54,
      "outputs": [
        {
          "output_type": "execute_result",
          "data": {
            "text/plain": [
              "['1,1,5.0',\n",
              " '1,2,1.0',\n",
              " '1,3,5.0',\n",
              " '1,4,1.0',\n",
              " '2,1,5.0',\n",
              " '2,2,1.0',\n",
              " '2,3,5.0',\n",
              " '2,4,1.0',\n",
              " '3,1,1.0',\n",
              " '3,2,5.0',\n",
              " '3,3,1.0',\n",
              " '3,4,5.0',\n",
              " '4,1,1.0',\n",
              " '4,2,5.0',\n",
              " '4,3,1.0',\n",
              " '4,4,5.0']"
            ]
          },
          "metadata": {},
          "execution_count": 54
        }
      ]
    },
    {
      "cell_type": "code",
      "source": [
        "ratings.collect()"
      ],
      "metadata": {
        "colab": {
          "base_uri": "https://localhost:8080/"
        },
        "id": "WLXdX1_drwVs",
        "outputId": "860b1e49-bce2-462c-b458-7140c5f11c76"
      },
      "execution_count": 55,
      "outputs": [
        {
          "output_type": "execute_result",
          "data": {
            "text/plain": [
              "[Rating(user=1, product=1, rating=5.0),\n",
              " Rating(user=1, product=2, rating=1.0),\n",
              " Rating(user=1, product=3, rating=5.0),\n",
              " Rating(user=1, product=4, rating=1.0),\n",
              " Rating(user=2, product=1, rating=5.0),\n",
              " Rating(user=2, product=2, rating=1.0),\n",
              " Rating(user=2, product=3, rating=5.0),\n",
              " Rating(user=2, product=4, rating=1.0),\n",
              " Rating(user=3, product=1, rating=1.0),\n",
              " Rating(user=3, product=2, rating=5.0),\n",
              " Rating(user=3, product=3, rating=1.0),\n",
              " Rating(user=3, product=4, rating=5.0),\n",
              " Rating(user=4, product=1, rating=1.0),\n",
              " Rating(user=4, product=2, rating=5.0),\n",
              " Rating(user=4, product=3, rating=1.0),\n",
              " Rating(user=4, product=4, rating=5.0)]"
            ]
          },
          "metadata": {},
          "execution_count": 55
        }
      ]
    },
    {
      "cell_type": "code",
      "source": [
        "testdata.collect()"
      ],
      "metadata": {
        "colab": {
          "base_uri": "https://localhost:8080/"
        },
        "id": "V-PLn6PYr0Jt",
        "outputId": "e861356b-a119-4a32-c7c4-99d617e24f29"
      },
      "execution_count": 56,
      "outputs": [
        {
          "output_type": "execute_result",
          "data": {
            "text/plain": [
              "[(1, 1),\n",
              " (1, 2),\n",
              " (1, 3),\n",
              " (1, 4),\n",
              " (2, 1),\n",
              " (2, 2),\n",
              " (2, 3),\n",
              " (2, 4),\n",
              " (3, 1),\n",
              " (3, 2),\n",
              " (3, 3),\n",
              " (3, 4),\n",
              " (4, 1),\n",
              " (4, 2),\n",
              " (4, 3),\n",
              " (4, 4)]"
            ]
          },
          "metadata": {},
          "execution_count": 56
        }
      ]
    },
    {
      "cell_type": "code",
      "source": [
        "predictions.collect()"
      ],
      "metadata": {
        "colab": {
          "base_uri": "https://localhost:8080/"
        },
        "id": "pLFoxlfVr24Y",
        "outputId": "559b94aa-5e2e-48bb-eaa3-294d7299b090"
      },
      "execution_count": 57,
      "outputs": [
        {
          "output_type": "execute_result",
          "data": {
            "text/plain": [
              "[((4, 4), 0.9962697522713009),\n",
              " ((4, 2), 0.9962697522713009),\n",
              " ((4, 1), 0.9962697522713009),\n",
              " ((4, 3), 0.9962697522713009),\n",
              " ((2, 4), 0.9962697522713009),\n",
              " ((2, 2), 0.9962697522713009),\n",
              " ((2, 1), 0.9962697522713009),\n",
              " ((2, 3), 0.9962697522713009),\n",
              " ((1, 4), 0.9962697522713009),\n",
              " ((1, 2), 0.9962697522713009),\n",
              " ((1, 1), 0.9962697522713009),\n",
              " ((1, 3), 0.9962697522713009),\n",
              " ((3, 4), 0.9962697522713009),\n",
              " ((3, 2), 0.9962697522713009),\n",
              " ((3, 1), 0.9962697522713009),\n",
              " ((3, 3), 0.9962697522713009)]"
            ]
          },
          "metadata": {},
          "execution_count": 57
        }
      ]
    },
    {
      "cell_type": "code",
      "source": [
        "ratesAndPreds.collect()"
      ],
      "metadata": {
        "colab": {
          "base_uri": "https://localhost:8080/"
        },
        "id": "-mELCcP1r5ms",
        "outputId": "e409899a-4b61-4554-959e-73ad79cad11f"
      },
      "execution_count": 58,
      "outputs": [
        {
          "output_type": "execute_result",
          "data": {
            "text/plain": [
              "[((1, 1), (5.0, 0.9962697522713009)),\n",
              " ((2, 4), (1.0, 0.9962697522713009)),\n",
              " ((3, 3), (1.0, 0.9962697522713009)),\n",
              " ((4, 2), (5.0, 0.9962697522713009)),\n",
              " ((1, 2), (1.0, 0.9962697522713009)),\n",
              " ((2, 3), (5.0, 0.9962697522713009)),\n",
              " ((3, 4), (5.0, 0.9962697522713009)),\n",
              " ((4, 1), (1.0, 0.9962697522713009)),\n",
              " ((1, 3), (5.0, 0.9962697522713009)),\n",
              " ((2, 2), (1.0, 0.9962697522713009)),\n",
              " ((3, 1), (1.0, 0.9962697522713009)),\n",
              " ((4, 4), (5.0, 0.9962697522713009)),\n",
              " ((1, 4), (1.0, 0.9962697522713009)),\n",
              " ((2, 1), (5.0, 0.9962697522713009)),\n",
              " ((3, 2), (5.0, 0.9962697522713009)),\n",
              " ((4, 3), (1.0, 0.9962697522713009))]"
            ]
          },
          "metadata": {},
          "execution_count": 58
        }
      ]
    }
  ]
}